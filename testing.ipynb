{
 "cells": [
  {
   "cell_type": "code",
   "execution_count": 1,
   "metadata": {},
   "outputs": [],
   "source": [
    "%load_ext autoreload\n",
    "%autoreload 2"
   ]
  },
  {
   "cell_type": "code",
   "execution_count": 2,
   "metadata": {
    "scrolled": true
   },
   "outputs": [],
   "source": [
    "import matplotlib.pyplot as plt\n",
    "import seaborn as sns\n",
    "from utils import preprocess_captions\n",
    "import os.path\n",
    "from data import *\n",
    "\n",
    "if not os.path.exists(\"./data/captions.json\"):\n",
    "    preprocess_captions()\n",
    "\n",
    "batch_size = 2\n",
    "train_loader = get_loader(\"TRAIN\", batch_size)"
   ]
  },
  {
   "cell_type": "code",
   "execution_count": 13,
   "metadata": {},
   "outputs": [
    {
     "data": {
      "text/plain": [
       "44"
      ]
     },
     "execution_count": 13,
     "metadata": {},
     "output_type": "execute_result"
    }
   ],
   "source": [
    "len(train_loader)"
   ]
  },
  {
   "cell_type": "code",
   "execution_count": 3,
   "metadata": {},
   "outputs": [
    {
     "name": "stdout",
     "output_type": "stream",
     "text": [
      "Vocab size: 1842\n"
     ]
    }
   ],
   "source": [
    "print(\"Vocab size:\", len(train_loader.dataset.vocab))"
   ]
  },
  {
   "cell_type": "code",
   "execution_count": 4,
   "metadata": {
    "scrolled": true
   },
   "outputs": [
    {
     "data": {
      "text/plain": [
       "Text(0.5, 0, 'Caption length')"
      ]
     },
     "execution_count": 4,
     "metadata": {},
     "output_type": "execute_result"
    },
    {
     "data": {
      "image/png": "[encoded data removed]",
      "text/plain": [
       "<Figure size 432x288 with 1 Axes>"
      ]
     },
     "metadata": {
      "needs_background": "light"
     },
     "output_type": "display_data"
    }
   ],
   "source": [
    "#\n",
    "# Caption lengths distribution\n",
    "#\n",
    "\n",
    "lengths = {k: len(v) for k, v in train_loader.dataset.caption_lengths.items()}\n",
    "\n",
    "ax = sns.scatterplot(list(lengths.keys()), list(lengths.values()))\n",
    "plt.ylabel('Count', fontsize=16)\n",
    "plt.xlabel('Caption length', fontsize=16)"
   ]
  },
  {
   "cell_type": "code",
   "execution_count": 5,
   "metadata": {},
   "outputs": [
    {
     "name": "stdout",
     "output_type": "stream",
     "text": [
      "Max length 28\n",
      "Min length 0\n"
     ]
    }
   ],
   "source": [
    "# TODO: figure out the images with 0 an 1-length caption\n",
    "\n",
    "print(\"Max length\", max(lengths))\n",
    "print(\"Min length\", min(lengths))"
   ]
  },
  {
   "cell_type": "code",
   "execution_count": 6,
   "metadata": {},
   "outputs": [
    {
     "name": "stdout",
     "output_type": "stream",
     "text": [
      "Sampled indices: 87\n",
      "images.shape: torch.Size([2, 3, 224, 224])\n",
      "captions.shape: torch.Size([2, 5])\n"
     ]
    }
   ],
   "source": [
    "#\n",
    "# Same-length indices sampler test\n",
    "#\n",
    "\n",
    "import torch.utils.data as data\n",
    "\n",
    "# Randomly sample a caption length, and sample indices with that length.\n",
    "indices = train_loader.dataset.get_indices()\n",
    "print('Sampled indices: {}'.format(len(indices)))\n",
    "# Create and assign a batch sampler to retrieve a batch with the sampled indices.\n",
    "sampler = data.sampler.SubsetRandomSampler(indices=indices)\n",
    "train_loader.batch_sampler.sampler = sampler\n",
    "\n",
    "# Obtain the batch.\n",
    "for batch in train_loader:\n",
    "    images, captions = batch[0], batch[1]\n",
    "    break\n",
    "    \n",
    "print('images.shape:', images.shape)\n",
    "print('captions.shape:', captions.shape)"
   ]
  },
  {
   "cell_type": "code",
   "execution_count": 7,
   "metadata": {
    "scrolled": true
   },
   "outputs": [
    {
     "name": "stdout",
     "output_type": "stream",
     "text": [
      "torch.Size([2, 256])\n",
      "torch.Size([2, 5, 1842])\n"
     ]
    }
   ],
   "source": [
    "#\n",
    "# Encoder and Decoder forward pass test\n",
    "#\n",
    "\n",
    "from models import Encoder, Decoder\n",
    "\n",
    "embed_size = 256\n",
    "encoder = Encoder(embed_size)\n",
    "\n",
    "hidden_size = 512\n",
    "vocab_size = len(train_loader.dataset.vocab)\n",
    "decoder = Decoder(embed_size, hidden_size, vocab_size)\n",
    "\n",
    "if batch_size == 1:\n",
    "    encoder.eval() # To not use batch norm when I'm testing with batch size=1\n",
    "\n",
    "if torch.cuda.is_available():\n",
    "    encoder = encoder.cuda()\n",
    "    decoder = decoder.cuda()\n",
    "    images = images.cuda()\n",
    "    captions = captions.cuda()\n",
    "    \n",
    "features = encoder(images)\n",
    "outputs = decoder(features, captions)\n",
    "\n",
    "# Features shape should be (batch_size, embed_size)\n",
    "print(features.shape)\n",
    "\n",
    "# Outputs shape should be (batch_size, captions.shape[1], vocab_size)\n",
    "print(outputs.shape)"
   ]
  },
  {
   "cell_type": "code",
   "execution_count": 8,
   "metadata": {},
   "outputs": [],
   "source": [
    "#\n",
    "# Encoder and Decoder backward pass test\n",
    "#\n",
    "import torch\n",
    "from torch import nn\n",
    "\n",
    "criterion = nn.CrossEntropyLoss().cuda()\n",
    "params = (list(filter(lambda p: p.requires_grad, encoder.parameters()))+\n",
    "        list(filter(lambda p: p.requires_grad, decoder.parameters())))\n",
    "optimizer = torch.optim.Adam(params, lr=0.001)\n",
    "\n",
    "loss = criterion(outputs.view(-1, len(train_loader.dataset.vocab)), captions.view(-1))\n",
    "optimizer.zero_grad()\n",
    "loss.backward()\n",
    "optimizer.step()"
   ]
  },
  {
   "cell_type": "code",
   "execution_count": 9,
   "metadata": {},
   "outputs": [
    {
     "name": "stdout",
     "output_type": "stream",
     "text": [
      "torch.Size([5, 256])\n",
      "torch.Size([5, 6, 1842])\n",
      "torch.Size([5, 5, 28])\n"
     ]
    }
   ],
   "source": [
    "#\n",
    "# Validation loader test\n",
    "#\n",
    "\n",
    "from train_utils import bleu_eval, early_stopping\n",
    "\n",
    "val_loader = get_loader(\"VAL\", 5)\n",
    "\n",
    "# Obtain batch\n",
    "for batch in val_loader:\n",
    "    images, captions, all_caps = batch[0], batch[1], batch[2]\n",
    "    break\n",
    "    \n",
    "embed_size = 256\n",
    "encoder = Encoder(embed_size)\n",
    "\n",
    "hidden_size = 512\n",
    "vocab_size = len(train_loader.dataset.vocab)\n",
    "decoder = Decoder(embed_size, hidden_size, vocab_size)\n",
    "\n",
    "encoder.eval() # To not use batch norm when I'm testing with batch size=1\n",
    "decoder.eval()\n",
    "\n",
    "if torch.cuda.is_available():\n",
    "    encoder = encoder.cuda()\n",
    "    decoder = decoder.cuda()\n",
    "    images = images.cuda()\n",
    "    captions = captions.cuda()\n",
    "    \n",
    "features = encoder(images)\n",
    "outputs = decoder(features, captions)\n",
    "\n",
    "# features shape should be (batch_size, embed_size)\n",
    "print(features.shape)\n",
    "\n",
    "# outputs shape should be (batch_size, captions.shape[1], vocab_size)\n",
    "print(outputs.shape)\n",
    "\n",
    "# all_caps shape should be (batch_size, #caption per image, max_caption_length)\n",
    "print(all_caps.shape)"
   ]
  },
  {
   "cell_type": "code",
   "execution_count": 10,
   "metadata": {
    "scrolled": true
   },
   "outputs": [
    {
     "data": {
      "text/plain": [
       "0"
      ]
     },
     "execution_count": 10,
     "metadata": {},
     "output_type": "execute_result"
    }
   ],
   "source": [
    "#\n",
    "# Batched BLEU scoring test\n",
    "#\n",
    "\n",
    "_, predicted = outputs.max(2)\n",
    "candidates = predicted.to(\"cpu\").numpy()\n",
    "batch_bleu_score = bleu_eval(candidates, all_caps, val_loader.dataset.vocab)\n",
    "batch_bleu_score"
   ]
  },
  {
   "cell_type": "code",
   "execution_count": 11,
   "metadata": {},
   "outputs": [
    {
     "name": "stdout",
     "output_type": "stream",
     "text": [
      "True\n",
      "False\n",
      "True\n",
      "False\n"
     ]
    }
   ],
   "source": [
    "#\n",
    "# Early stopping test\n",
    "#\n",
    "\n",
    "a = [1, 1, 1, 5, 1, 1, 1]\n",
    "print(early_stopping(a))\n",
    "a = [1, 1, 1, 5, 6, 1, 1]\n",
    "print(early_stopping(a))\n",
    "a = [1, 1, 1, 5, 5, 5, 5]\n",
    "print(early_stopping(a))\n",
    "a = [1, 2, 3, 4, 5, 6, 7]\n",
    "print(early_stopping(a))"
   ]
  },
  {
   "cell_type": "code",
   "execution_count": 12,
   "metadata": {},
   "outputs": [
    {
     "name": "stdout",
     "output_type": "stream",
     "text": [
      "./data/models/checkpoints/tmp-model-1-1.ckpt\n"
     ]
    }
   ],
   "source": [
    "#\n",
    "# Saving checkpoint test\n",
    "#\n",
    "import os\n",
    "epoch = 1\n",
    "i = 1\n",
    "filename = os.path.join(\"./data/models/checkpoints/tmp-model-{}-{}.ckpt\".format(epoch, i))\n",
    "print(filename)\n",
    "torch.save({\"encoder\": encoder.state_dict(),\n",
    "            \"decoder\": decoder.state_dict(),\n",
    "            \"optimizer\" : optimizer.state_dict(),\n",
    "            \"total_loss\": 0,\n",
    "            \"epoch\": epoch,\n",
    "            \"train_step\": i,\n",
    "        }, filename)"
   ]
  }
 ],
 "metadata": {
  "kernelspec": {
   "display_name": "Python 3",
   "language": "python",
   "name": "python3"
  },
  "language_info": {
   "codemirror_mode": {
    "name": "ipython",
    "version": 3
   },
   "file_extension": ".py",
   "mimetype": "text/x-python",
   "name": "python",
   "nbconvert_exporter": "python",
   "pygments_lexer": "ipython3",
   "version": "3.7.4"
  }
 },
 "nbformat": 4,
 "nbformat_minor": 4
}
